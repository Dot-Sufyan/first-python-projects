{
 "cells": [
  {
   "cell_type": "code",
   "execution_count": 1,
   "id": "bb9792e4-7c56-4446-9345-821a2b9b3928",
   "metadata": {},
   "outputs": [
    {
     "name": "stdout",
     "output_type": "stream",
     "text": [
      "Hellow World\n"
     ]
    }
   ],
   "source": [
    "#print hello world\n",
    "print(\"Hellow World\")"
   ]
  },
  {
   "cell_type": "code",
   "execution_count": 4,
   "id": "2d7be57d-8f9d-4877-b01a-1bb1666db3c0",
   "metadata": {},
   "outputs": [
    {
     "name": "stdin",
     "output_type": "stream",
     "text": [
      "Enter a number: 23\n"
     ]
    },
    {
     "name": "stdout",
     "output_type": "stream",
     "text": [
      "23\n"
     ]
    }
   ],
   "source": [
    "#input from user\n",
    "first = input(\"Enter a number:\")\n",
    "print(first)"
   ]
  },
  {
   "cell_type": "code",
   "execution_count": 8,
   "id": "54687d64-67da-455d-a678-28c276acb7f0",
   "metadata": {},
   "outputs": [
    {
     "name": "stdin",
     "output_type": "stream",
     "text": [
      "Enter first no: 12\n",
      "Enter second no: 29\n"
     ]
    },
    {
     "name": "stdout",
     "output_type": "stream",
     "text": [
      "Sum is :  41\n"
     ]
    }
   ],
   "source": [
    "#sum of two numbers\n",
    "No_1 = int(input(\"Enter first no:\"))\n",
    "No_2 = int(input(\"Enter second no:\"))\n",
    "sum = No_1 + No_2\n",
    "print(\"Sum is : \", sum)"
   ]
  },
  {
   "cell_type": "code",
   "execution_count": 35,
   "id": "bfbc4f93-1bff-496d-a686-a82d33d8f094",
   "metadata": {},
   "outputs": [
    {
     "name": "stdout",
     "output_type": "stream",
     "text": [
      "hello world\n"
     ]
    }
   ],
   "source": [
    "#concatenate two words\n",
    "word1 = \"hello\"\n",
    "word2 = \"world\"\n",
    "print(word1,word2)"
   ]
  },
  {
   "cell_type": "code",
   "execution_count": 19,
   "id": "76150057-ced7-46b2-bec7-dbc6e0eae600",
   "metadata": {},
   "outputs": [
    {
     "name": "stdout",
     "output_type": "stream",
     "text": [
      "['banana', 'apple', 'mango', 'apple']\n",
      "<class 'list'>\n",
      "['banana', 'orange', 'mango', 'apple']\n",
      "[1, 'mango', 2, 'banana', 3, 'apple']\n"
     ]
    }
   ],
   "source": [
    "#list\n",
    "list = [\"banana\",\"apple\",\"mango\",\"apple\"]\n",
    "print(list)\n",
    "print(type(list))\n",
    "#change in list\n",
    "list[1] = \"orange\"\n",
    "print(list)\n",
    "#multiple datatypes in list\n",
    "Multi_data_type = [1,\"mango\",2,\"banana\",3,\"apple\"]\n",
    "print(Multi_data_type)\n"
   ]
  },
  {
   "cell_type": "code",
   "execution_count": 22,
   "id": "1a0fe347-cccd-41ea-bc7f-e9220d3f97ca",
   "metadata": {},
   "outputs": [
    {
     "name": "stdout",
     "output_type": "stream",
     "text": [
      "['banana', 'apple', 'mango', 'orange']\n",
      "['banana', 'grapes', 'apple', 'mango', 'orange']\n"
     ]
    }
   ],
   "source": [
    "#append method\n",
    "list = [\"banana\",\"apple\",\"mango\"]\n",
    "list.append(\"orange\")\n",
    "print(list)\n",
    "#insert method\n",
    "list.insert(1,\"grapes\")\n",
    "print(list)"
   ]
  },
  {
   "cell_type": "code",
   "execution_count": 23,
   "id": "b033e8d9-c2de-48c3-ba8e-bfb33ae0614e",
   "metadata": {},
   "outputs": [
    {
     "name": "stdout",
     "output_type": "stream",
     "text": [
      "('banana', 'apple', 'mango')\n",
      "<class 'tuple'>\n"
     ]
    }
   ],
   "source": [
    "#tuple\n",
    "tuple = (\"banana\",\"apple\",\"mango\")\n",
    "print(tuple)\n",
    "print(type(tuple))"
   ]
  },
  {
   "cell_type": "code",
   "execution_count": 29,
   "id": "4c749fc2-0a47-4156-ac6d-b7b500a49d27",
   "metadata": {},
   "outputs": [
    {
     "name": "stdout",
     "output_type": "stream",
     "text": [
      "3\n",
      "1\n"
     ]
    }
   ],
   "source": [
    "#Two methods of tuple\n",
    "tuple = (\"banana\",\"apple\",\"mango\",\"apple\",\"grapes\",\"apple\",\"mango\")\n",
    "#count method\n",
    "count = tuple.count(\"apple\")\n",
    "print(count)\n",
    "#index number\n",
    "index_number = tuple.index(\"apple\")\n",
    "print(index_number)"
   ]
  }
 ],
 "metadata": {
  "kernelspec": {
   "display_name": "Python 3 (ipykernel)",
   "language": "python",
   "name": "python3"
  },
  "language_info": {
   "codemirror_mode": {
    "name": "ipython",
    "version": 3
   },
   "file_extension": ".py",
   "mimetype": "text/x-python",
   "name": "python",
   "nbconvert_exporter": "python",
   "pygments_lexer": "ipython3",
   "version": "3.12.3"
  }
 },
 "nbformat": 4,
 "nbformat_minor": 5
}
